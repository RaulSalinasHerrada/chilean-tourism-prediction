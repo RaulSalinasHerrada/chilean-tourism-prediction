{
 "cells": [
  {
   "cell_type": "code",
   "execution_count": null,
   "metadata": {},
   "outputs": [],
   "source": [
    "import pandas as pd\n",
    "import numpy as np\n",
    "\n",
    "pd.set_option('display.max_columns', None)\n",
    "\n",
    "path_data = \"./data/trips.csv\"\n",
    "\n",
    "data = pd.read_csv(path_data, encoding=\"latin_1\", sep=\";\",decimal=\",\")\n",
    "col_melt = list(data.columns[-12:]) #last months\n",
    "\n",
    "df_month = pd.DataFrame.from_dict(data={\n",
    "    \"month_name\": col_melt,\n",
    "    \"month_value\": list(range(1,13))\n",
    "})\n",
    "\n",
    "col_maintain = list(data.columns[:-12])\n",
    "\n",
    "data_long = data.melt(id_vars=col_maintain,value_vars=col_melt,var_name=\"month_name\")\n",
    "data_long = data_long.merge(df_month, how=\"left\",on=\"month_name\")\n",
    "def to_date(year,month):\n",
    "    return pd.Timestamp(day=1, month=month, year = year)\n",
    "\n",
    "\n",
    "years = data_long[\"Anio \"].values\n",
    "month_values = data_long[\"month_value\"].values\n",
    "\n",
    "data_long[\"time_stamp\"] = [to_date(year,month) for year,month  in zip(years, month_values)]\n",
    "data_long.drop(columns=[\"Anio \", \"month_name\", \"month_value\"], inplace=True)\n",
    "\n",
    "data_region = data_long[[\"CUT Region Origen \", \"CUT Region Destino \", \"value\", \"time_stamp\"]]\n",
    "data_region = data_region.copy()\n",
    "\n",
    "data_region.rename(columns={\"CUT Region Origen \": \"region_origin\", \"CUT Region Destino \": \"region_destiny\"}, inplace=True)\n",
    "\n",
    "data_region = data_region.groupby([\"region_origin\", \"region_destiny\", \"time_stamp\"]).sum().reset_index()\n",
    "data_region.value = np.int64(data_region.value.values)\n",
    "data_region.query(\"value > 0\", inplace=True)"
   ]
  },
  {
   "cell_type": "code",
   "execution_count": null,
   "metadata": {},
   "outputs": [],
   "source": [
    "data_region"
   ]
  },
  {
   "cell_type": "code",
   "execution_count": null,
   "metadata": {},
   "outputs": [],
   "source": [
    "for group, data_group in data_region.groupby([\"region_origin\", \"region_destiny\"]):\n",
    "    pass"
   ]
  },
  {
   "cell_type": "code",
   "execution_count": null,
   "metadata": {},
   "outputs": [],
   "source": [
    "from sktime.forecasting.tbats import TBATS\n",
    "from sktime.forecasting.base import ForecastingHorizon\n",
    "from sktime.forecasting.model_selection import temporal_train_test_split\n",
    "from sktime.performance_metrics.forecasting import mean_absolute_percentage_error\n",
    "from sktime.utils.plotting import plot_series\n",
    "import numpy as np\n",
    "\n",
    "y= pd.Series(\n",
    "    data_group.value.values,\n",
    "    index= data_group.time_stamp.values)\n",
    "y.index = y.index.to_period(\"M\")\n",
    "\n",
    "y_train, y_valid = temporal_train_test_split(y, test_size=12)\n",
    "plot_series(y_train, y_valid, labels=[\"train\", \"validation\"])\n"
   ]
  },
  {
   "cell_type": "code",
   "execution_count": null,
   "metadata": {},
   "outputs": [],
   "source": [
    "fh_valid = ForecastingHorizon(y_valid.index, is_relative=False)\n",
    "\n",
    "params_model = {\n",
    "    \"use_box_cox\": True,\n",
    "    \"use_arma_errors\": True,\n",
    "    \"use_trend\": True,\n",
    "    \"sp\" : 12\n",
    "}\n",
    "\n",
    "forecaster_try = TBATS(**params_model)\n",
    "forecaster_try.fit(y_train)\n",
    "y_pred = forecaster_try.predict(fh_valid)\n",
    "print(mean_absolute_percentage_error(y_valid, y_pred))\n",
    "\n",
    "plot_series(y_train,y_valid, y_pred, labels= [\"train\", \"valid\", \"valid_prediction\"])"
   ]
  },
  {
   "cell_type": "code",
   "execution_count": null,
   "metadata": {},
   "outputs": [],
   "source": [
    "\n",
    "forecaster = TBATS(**params_model)\n",
    "forecaster.fit(y)\n",
    "\n",
    "fh = ForecastingHorizon(np.arange(1,12))\n",
    "y_pred_final = forecaster.predict(fh)\n",
    "y_pred_invervals = forecaster.predict_interval(fh)\n",
    "\n",
    "plot_series(y, y_pred_final, labels = [\"value\", \"prediction\"], pred_interval=y_pred_invervals)\n"
   ]
  },
  {
   "cell_type": "code",
   "execution_count": null,
   "metadata": {},
   "outputs": [],
   "source": [
    "def predict_dataframe(data_grouped: pd.DataFrame, h:int = 12) -> pd.Series:\n",
    "    \n",
    "    y= pd.Series(\n",
    "    data_grouped.value.values,\n",
    "    index= data_grouped.time_stamp.values)\n",
    "    \n",
    "    y.index = y.index.to_period(\"M\")\n",
    "    \n",
    "    \n",
    "    params_model = {\n",
    "    \"use_box_cox\": True,\n",
    "    \"use_arma_errors\": True,\n",
    "    \"use_trend\": True,\n",
    "    \"sp\" : 12}\n",
    "    \n",
    "    forecaster = TBATS(**params_model)\n",
    "    forecaster.fit(y)\n",
    "    fh = ForecastingHorizon(np.arange(1,h))\n",
    "    \n",
    "    y_pred = forecaster.predict(fh)\n",
    "    \n",
    "    return y_pred\n",
    "    \n",
    "    \n",
    "\n"
   ]
  },
  {
   "cell_type": "code",
   "execution_count": null,
   "metadata": {},
   "outputs": [],
   "source": [
    "dict_pred = dict()\n",
    "\n",
    "for group, data_group in data_region.groupby([\"region_origin\", \"region_destiny\"]):\n",
    "    y_pred = predict_dataframe(data_group)\n",
    "    dict_pred[group] = y_pred"
   ]
  },
  {
   "cell_type": "code",
   "execution_count": null,
   "metadata": {},
   "outputs": [],
   "source": [
    "import pickle as p\n",
    "\n",
    "pred_path = \"./data/preds.pkl\"\n",
    "\n",
    "with open(pred_path,\"wb\") as file:\n",
    "    p.dump(dict_pred,file)"
   ]
  },
  {
   "cell_type": "code",
   "execution_count": null,
   "metadata": {},
   "outputs": [],
   "source": [
    "with open(pred_path, \"rb\") as file:\n",
    "    dict_pred_pkl = p.load(file)"
   ]
  },
  {
   "cell_type": "code",
   "execution_count": null,
   "metadata": {},
   "outputs": [],
   "source": [
    "dict_df = dict()\n",
    "for k,v in dict_pred_pkl.items():\n",
    "    region_origin = k[0]\n",
    "    region_destiny = k[1]\n",
    "    df = pd.DataFrame(v)\n",
    "    df[\"region_origin\"] = region_origin\n",
    "    df[\"region_destiny\"] = region_destiny\n",
    "    dict_df[k] = df"
   ]
  },
  {
   "cell_type": "code",
   "execution_count": null,
   "metadata": {},
   "outputs": [],
   "source": [
    "df_preds = pd.concat(dict_df.values())"
   ]
  },
  {
   "cell_type": "code",
   "execution_count": null,
   "metadata": {},
   "outputs": [],
   "source": [
    "df_preds.rename(columns={0: \"prediction\"}, inplace=True)"
   ]
  },
  {
   "cell_type": "code",
   "execution_count": null,
   "metadata": {},
   "outputs": [],
   "source": [
    "df_preds"
   ]
  },
  {
   "cell_type": "code",
   "execution_count": null,
   "metadata": {},
   "outputs": [],
   "source": [
    "df_preds_destiny = df_preds.reset_index(names=[\"time_stamp\"]).groupby([\"time_stamp\",\"region_destiny\"]).sum().reset_index()\n",
    "df_preds_destiny.prediction = np.int32(df_preds_destiny.prediction.values)\n",
    "df_preds_destiny.drop(columns=\"region_origin\",inplace=True)\n",
    "df_preds_destiny.sort_values([\"region_destiny\", \"time_stamp\"],inplace=True)\n",
    "df_preds_destiny"
   ]
  },
  {
   "cell_type": "code",
   "execution_count": null,
   "metadata": {},
   "outputs": [],
   "source": [
    "df_destiny = data_region.groupby([\"time_stamp\", \"region_destiny\"]).sum().reset_index()\n",
    "df_destiny.drop(columns=[\"region_origin\"], inplace=True)\n",
    "df_destiny[\"time_stamp\"] = pd.DatetimeIndex(df_destiny.time_stamp).to_period(\"M\")\n",
    "df_destiny"
   ]
  },
  {
   "cell_type": "code",
   "execution_count": null,
   "metadata": {},
   "outputs": [],
   "source": [
    "df_destiny_all = pd.concat([df_destiny, df_preds_destiny])\n",
    "df_destiny_all"
   ]
  },
  {
   "cell_type": "code",
   "execution_count": null,
   "metadata": {},
   "outputs": [],
   "source": [
    "for rd in range(16):\n",
    "    rd = rd + 1\n",
    "    df_region = df_destiny_all[df_destiny_all.region_destiny == rd]\n",
    "    df_y = df_region[pd.isna(df_region.prediction)]\n",
    "    y = pd.Series(df_y.value.values, index= df_y.time_stamp.values)\n",
    "    df_y_pred = df_region[pd.isna(df_region.value)]\n",
    "    y_pred = pd.Series(df_y_pred.prediction.values, index= df_y_pred.time_stamp.values)\n",
    "    plot_series(y, y_pred, labels=[\"value\", \"prediction\"], title=\"Travels to {} region\".format(rd))\n",
    "\n"
   ]
  }
 ],
 "metadata": {
  "kernelspec": {
   "display_name": ".venv",
   "language": "python",
   "name": "python3"
  },
  "language_info": {
   "codemirror_mode": {
    "name": "ipython",
    "version": 3
   },
   "file_extension": ".py",
   "mimetype": "text/x-python",
   "name": "python",
   "nbconvert_exporter": "python",
   "pygments_lexer": "ipython3",
   "version": "3.11.6"
  },
  "orig_nbformat": 4
 },
 "nbformat": 4,
 "nbformat_minor": 2
}
